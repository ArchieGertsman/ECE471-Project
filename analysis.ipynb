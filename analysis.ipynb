{
 "cells": [
  {
   "cell_type": "markdown",
   "metadata": {},
   "source": [
    "This is the notebook where I walk through the analysis workflow. \n",
    "utils.py contains all the important functions used here. The other\n",
    "notebooks involve supplementary analysis or feature engineering."
   ]
  },
  {
   "cell_type": "code",
   "execution_count": 1,
   "metadata": {},
   "outputs": [],
   "source": [
    "import pandas as pd\n",
    "import numpy as np\n",
    "import matplotlib.pyplot as plt\n",
    "import utils"
   ]
  },
  {
   "cell_type": "markdown",
   "metadata": {},
   "source": [
    "## load original dataframe"
   ]
  },
  {
   "cell_type": "code",
   "execution_count": 2,
   "metadata": {},
   "outputs": [
    {
     "data": {
      "text/html": [
       "<div>\n",
       "<style scoped>\n",
       "    .dataframe tbody tr th:only-of-type {\n",
       "        vertical-align: middle;\n",
       "    }\n",
       "\n",
       "    .dataframe tbody tr th {\n",
       "        vertical-align: top;\n",
       "    }\n",
       "\n",
       "    .dataframe thead th {\n",
       "        text-align: right;\n",
       "    }\n",
       "</style>\n",
       "<table border=\"1\" class=\"dataframe\">\n",
       "  <thead>\n",
       "    <tr style=\"text-align: right;\">\n",
       "      <th></th>\n",
       "      <th>time</th>\n",
       "      <th>src</th>\n",
       "      <th>client_version</th>\n",
       "      <th>fingerprint</th>\n",
       "      <th>user</th>\n",
       "      <th>password</th>\n",
       "    </tr>\n",
       "  </thead>\n",
       "  <tbody>\n",
       "    <tr>\n",
       "      <th>0</th>\n",
       "      <td>2017-02-07T18:30:27-06:00</td>\n",
       "      <td>60.160.226.redacted</td>\n",
       "      <td>SSH-2.0-sshlib-0.1</td>\n",
       "      <td>NaN</td>\n",
       "      <td>root</td>\n",
       "      <td>12345</td>\n",
       "    </tr>\n",
       "    <tr>\n",
       "      <th>1</th>\n",
       "      <td>2017-02-07T19:11:17-06:00</td>\n",
       "      <td>177.42.196.redacted</td>\n",
       "      <td>SSH-2.0-Go</td>\n",
       "      <td>NaN</td>\n",
       "      <td>admin</td>\n",
       "      <td>smcadmin</td>\n",
       "    </tr>\n",
       "    <tr>\n",
       "      <th>2</th>\n",
       "      <td>2017-02-07T19:56:09-06:00</td>\n",
       "      <td>79.98.0.redacted</td>\n",
       "      <td>SSH-2.0-sshlib-0.1</td>\n",
       "      <td>NaN</td>\n",
       "      <td>root</td>\n",
       "      <td>password</td>\n",
       "    </tr>\n",
       "    <tr>\n",
       "      <th>3</th>\n",
       "      <td>2017-02-08T14:07:33-06:00</td>\n",
       "      <td>5.200.54.redacted</td>\n",
       "      <td>SSH-2.0-Go</td>\n",
       "      <td>NaN</td>\n",
       "      <td>support</td>\n",
       "      <td>password</td>\n",
       "    </tr>\n",
       "    <tr>\n",
       "      <th>4</th>\n",
       "      <td>2017-02-08T22:55:19-06:00</td>\n",
       "      <td>120.42.100.redacted</td>\n",
       "      <td>SSH-2.0-sshlib-0.1</td>\n",
       "      <td>NaN</td>\n",
       "      <td>root</td>\n",
       "      <td>111111</td>\n",
       "    </tr>\n",
       "  </tbody>\n",
       "</table>\n",
       "</div>"
      ],
      "text/plain": [
       "                        time                  src      client_version  \\\n",
       "0  2017-02-07T18:30:27-06:00  60.160.226.redacted  SSH-2.0-sshlib-0.1   \n",
       "1  2017-02-07T19:11:17-06:00  177.42.196.redacted          SSH-2.0-Go   \n",
       "2  2017-02-07T19:56:09-06:00     79.98.0.redacted  SSH-2.0-sshlib-0.1   \n",
       "3  2017-02-08T14:07:33-06:00    5.200.54.redacted          SSH-2.0-Go   \n",
       "4  2017-02-08T22:55:19-06:00  120.42.100.redacted  SSH-2.0-sshlib-0.1   \n",
       "\n",
       "  fingerprint     user  password  \n",
       "0         NaN     root     12345  \n",
       "1         NaN    admin  smcadmin  \n",
       "2         NaN     root  password  \n",
       "3         NaN  support  password  \n",
       "4         NaN     root    111111  "
      ]
     },
     "execution_count": 2,
     "metadata": {},
     "output_type": "execute_result"
    }
   ],
   "source": [
    "df = pd.read_csv('ssh-logs.csv')\n",
    "# reorder columns\n",
    "df = df[['time', 'src', 'client_version', 'fingerprint', 'user', 'password']]\n",
    "df.head()"
   ]
  },
  {
   "cell_type": "markdown",
   "metadata": {},
   "source": [
    "## manipulating the data"
   ]
  },
  {
   "cell_type": "code",
   "execution_count": 3,
   "metadata": {},
   "outputs": [
    {
     "name": "stdout",
     "output_type": "stream",
     "text": [
      "10015 4510\n"
     ]
    },
    {
     "data": {
      "text/html": [
       "<div>\n",
       "<style scoped>\n",
       "    .dataframe tbody tr th:only-of-type {\n",
       "        vertical-align: middle;\n",
       "    }\n",
       "\n",
       "    .dataframe tbody tr th {\n",
       "        vertical-align: top;\n",
       "    }\n",
       "\n",
       "    .dataframe thead th {\n",
       "        text-align: right;\n",
       "    }\n",
       "</style>\n",
       "<table border=\"1\" class=\"dataframe\">\n",
       "  <thead>\n",
       "    <tr style=\"text-align: right;\">\n",
       "      <th></th>\n",
       "      <th>time</th>\n",
       "      <th>src</th>\n",
       "      <th>client_version</th>\n",
       "      <th>user</th>\n",
       "      <th>password</th>\n",
       "    </tr>\n",
       "  </thead>\n",
       "  <tbody>\n",
       "    <tr>\n",
       "      <th>0</th>\n",
       "      <td>2017-02-08 00:30:27+00:00</td>\n",
       "      <td>60.160.226.redacted</td>\n",
       "      <td>SSH-2.0-sshlib-0.1</td>\n",
       "      <td>root</td>\n",
       "      <td>12345</td>\n",
       "    </tr>\n",
       "    <tr>\n",
       "      <th>1</th>\n",
       "      <td>2017-02-08 01:11:17+00:00</td>\n",
       "      <td>177.42.196.redacted</td>\n",
       "      <td>SSH-2.0-Go</td>\n",
       "      <td>admin</td>\n",
       "      <td>smcadmin</td>\n",
       "    </tr>\n",
       "    <tr>\n",
       "      <th>2</th>\n",
       "      <td>2017-02-08 01:56:09+00:00</td>\n",
       "      <td>79.98.0.redacted</td>\n",
       "      <td>SSH-2.0-sshlib-0.1</td>\n",
       "      <td>root</td>\n",
       "      <td>password</td>\n",
       "    </tr>\n",
       "    <tr>\n",
       "      <th>3</th>\n",
       "      <td>2017-02-08 20:07:33+00:00</td>\n",
       "      <td>5.200.54.redacted</td>\n",
       "      <td>SSH-2.0-Go</td>\n",
       "      <td>support</td>\n",
       "      <td>password</td>\n",
       "    </tr>\n",
       "    <tr>\n",
       "      <th>4</th>\n",
       "      <td>2017-02-09 04:55:19+00:00</td>\n",
       "      <td>120.42.100.redacted</td>\n",
       "      <td>SSH-2.0-sshlib-0.1</td>\n",
       "      <td>root</td>\n",
       "      <td>111111</td>\n",
       "    </tr>\n",
       "  </tbody>\n",
       "</table>\n",
       "</div>"
      ],
      "text/plain": [
       "                       time                  src      client_version     user  \\\n",
       "0 2017-02-08 00:30:27+00:00  60.160.226.redacted  SSH-2.0-sshlib-0.1     root   \n",
       "1 2017-02-08 01:11:17+00:00  177.42.196.redacted          SSH-2.0-Go    admin   \n",
       "2 2017-02-08 01:56:09+00:00     79.98.0.redacted  SSH-2.0-sshlib-0.1     root   \n",
       "3 2017-02-08 20:07:33+00:00    5.200.54.redacted          SSH-2.0-Go  support   \n",
       "4 2017-02-09 04:55:19+00:00  120.42.100.redacted  SSH-2.0-sshlib-0.1     root   \n",
       "\n",
       "   password  \n",
       "0     12345  \n",
       "1  smcadmin  \n",
       "2  password  \n",
       "3  password  \n",
       "4    111111  "
      ]
     },
     "execution_count": 3,
     "metadata": {},
     "output_type": "execute_result"
    }
   ],
   "source": [
    "df.drop('fingerprint', axis=1, inplace=True)\n",
    "df.time = pd.to_datetime(df.time, format='%Y-%m-%dT%H:%M:%S', utc=True)\n",
    "print(len(df), len(df.src.unique()))\n",
    "df.head()"
   ]
  },
  {
   "cell_type": "markdown",
   "metadata": {},
   "source": [
    "### remove IP's with too few login attempts"
   ]
  },
  {
   "cell_type": "code",
   "execution_count": 4,
   "metadata": {},
   "outputs": [
    {
     "name": "stdout",
     "output_type": "stream",
     "text": [
      "keeping 46 out of 4510 ips\n",
      "total number of attacks: 4285\n"
     ]
    },
    {
     "data": {
      "text/html": [
       "<div>\n",
       "<style scoped>\n",
       "    .dataframe tbody tr th:only-of-type {\n",
       "        vertical-align: middle;\n",
       "    }\n",
       "\n",
       "    .dataframe tbody tr th {\n",
       "        vertical-align: top;\n",
       "    }\n",
       "\n",
       "    .dataframe thead th {\n",
       "        text-align: right;\n",
       "    }\n",
       "</style>\n",
       "<table border=\"1\" class=\"dataframe\">\n",
       "  <thead>\n",
       "    <tr style=\"text-align: right;\">\n",
       "      <th></th>\n",
       "      <th>time</th>\n",
       "      <th>src</th>\n",
       "      <th>client_version</th>\n",
       "      <th>user</th>\n",
       "      <th>password</th>\n",
       "    </tr>\n",
       "  </thead>\n",
       "  <tbody>\n",
       "    <tr>\n",
       "      <th>407</th>\n",
       "      <td>2017-03-01 08:51:07+00:00</td>\n",
       "      <td>223.99.60.redacted</td>\n",
       "      <td>SSH-2.0-OpenSSH_6.2p2 Ubuntu-6</td>\n",
       "      <td>root</td>\n",
       "      <td>wubao</td>\n",
       "    </tr>\n",
       "    <tr>\n",
       "      <th>408</th>\n",
       "      <td>2017-03-01 08:51:07+00:00</td>\n",
       "      <td>223.99.60.redacted</td>\n",
       "      <td>SSH-2.0-OpenSSH_6.2p2 Ubuntu-6</td>\n",
       "      <td>root</td>\n",
       "      <td>wubao</td>\n",
       "    </tr>\n",
       "    <tr>\n",
       "      <th>409</th>\n",
       "      <td>2017-03-01 08:51:07+00:00</td>\n",
       "      <td>223.99.60.redacted</td>\n",
       "      <td>SSH-2.0-OpenSSH_6.2p2 Ubuntu-6</td>\n",
       "      <td>root</td>\n",
       "      <td>wubao</td>\n",
       "    </tr>\n",
       "    <tr>\n",
       "      <th>410</th>\n",
       "      <td>2017-03-01 08:51:08+00:00</td>\n",
       "      <td>223.99.60.redacted</td>\n",
       "      <td>SSH-2.0-OpenSSH_6.2p2 Ubuntu-6</td>\n",
       "      <td>root</td>\n",
       "      <td>wubao</td>\n",
       "    </tr>\n",
       "    <tr>\n",
       "      <th>411</th>\n",
       "      <td>2017-03-01 08:51:08+00:00</td>\n",
       "      <td>223.99.60.redacted</td>\n",
       "      <td>SSH-2.0-OpenSSH_6.2p2 Ubuntu-6</td>\n",
       "      <td>root</td>\n",
       "      <td>wubao</td>\n",
       "    </tr>\n",
       "  </tbody>\n",
       "</table>\n",
       "</div>"
      ],
      "text/plain": [
       "                         time                 src  \\\n",
       "407 2017-03-01 08:51:07+00:00  223.99.60.redacted   \n",
       "408 2017-03-01 08:51:07+00:00  223.99.60.redacted   \n",
       "409 2017-03-01 08:51:07+00:00  223.99.60.redacted   \n",
       "410 2017-03-01 08:51:08+00:00  223.99.60.redacted   \n",
       "411 2017-03-01 08:51:08+00:00  223.99.60.redacted   \n",
       "\n",
       "                     client_version  user password  \n",
       "407  SSH-2.0-OpenSSH_6.2p2 Ubuntu-6  root    wubao  \n",
       "408  SSH-2.0-OpenSSH_6.2p2 Ubuntu-6  root    wubao  \n",
       "409  SSH-2.0-OpenSSH_6.2p2 Ubuntu-6  root    wubao  \n",
       "410  SSH-2.0-OpenSSH_6.2p2 Ubuntu-6  root    wubao  \n",
       "411  SSH-2.0-OpenSSH_6.2p2 Ubuntu-6  root    wubao  "
      ]
     },
     "execution_count": 4,
     "metadata": {},
     "output_type": "execute_result"
    }
   ],
   "source": [
    "thresh = 10\n",
    "\n",
    "attack_counts = df.groupby('src').size()\n",
    "ips_keep = attack_counts[attack_counts >= thresh].index\n",
    "print(f'keeping {len(ips_keep)} out of {len(attack_counts)} ips')\n",
    "\n",
    "df = df[np.isin(df.src, ips_keep)]\n",
    "print('total number of attacks:', len(df))\n",
    "df.head()"
   ]
  },
  {
   "cell_type": "markdown",
   "metadata": {},
   "source": [
    "### remove internal IP's"
   ]
  },
  {
   "cell_type": "code",
   "execution_count": 5,
   "metadata": {},
   "outputs": [
    {
     "name": "stdout",
     "output_type": "stream",
     "text": [
      "keeping 45 out of 46 ips\n"
     ]
    }
   ],
   "source": [
    "msk = df.src.str.startswith('192.168.')\n",
    "num_found = len(df[msk].src.unique())\n",
    "df = df[~msk]\n",
    "print(f'keeping {len(ips_keep) - num_found} out of {len(ips_keep)} ips')"
   ]
  },
  {
   "cell_type": "markdown",
   "metadata": {},
   "source": [
    "### geocode IP addresses"
   ]
  },
  {
   "cell_type": "code",
   "execution_count": 6,
   "metadata": {},
   "outputs": [
    {
     "data": {
      "text/html": [
       "<div>\n",
       "<style scoped>\n",
       "    .dataframe tbody tr th:only-of-type {\n",
       "        vertical-align: middle;\n",
       "    }\n",
       "\n",
       "    .dataframe tbody tr th {\n",
       "        vertical-align: top;\n",
       "    }\n",
       "\n",
       "    .dataframe thead th {\n",
       "        text-align: right;\n",
       "    }\n",
       "</style>\n",
       "<table border=\"1\" class=\"dataframe\">\n",
       "  <thead>\n",
       "    <tr style=\"text-align: right;\">\n",
       "      <th></th>\n",
       "      <th>city</th>\n",
       "      <th>country</th>\n",
       "    </tr>\n",
       "  </thead>\n",
       "  <tbody>\n",
       "    <tr>\n",
       "      <th>60.160.226.redacted</th>\n",
       "      <td>Kunming</td>\n",
       "      <td>CN</td>\n",
       "    </tr>\n",
       "    <tr>\n",
       "      <th>177.42.196.redacted</th>\n",
       "      <td>Salvador</td>\n",
       "      <td>BR</td>\n",
       "    </tr>\n",
       "    <tr>\n",
       "      <th>79.98.0.redacted</th>\n",
       "      <td>Cremona</td>\n",
       "      <td>IT</td>\n",
       "    </tr>\n",
       "    <tr>\n",
       "      <th>5.200.54.redacted</th>\n",
       "      <td>Saint Petersburg</td>\n",
       "      <td>RU</td>\n",
       "    </tr>\n",
       "    <tr>\n",
       "      <th>120.42.100.redacted</th>\n",
       "      <td>Xiamen</td>\n",
       "      <td>CN</td>\n",
       "    </tr>\n",
       "  </tbody>\n",
       "</table>\n",
       "</div>"
      ],
      "text/plain": [
       "                                 city country\n",
       "60.160.226.redacted           Kunming      CN\n",
       "177.42.196.redacted          Salvador      BR\n",
       "79.98.0.redacted              Cremona      IT\n",
       "5.200.54.redacted    Saint Petersburg      RU\n",
       "120.42.100.redacted            Xiamen      CN"
      ]
     },
     "execution_count": 6,
     "metadata": {},
     "output_type": "execute_result"
    }
   ],
   "source": [
    "df_geo = utils.load_df_geo()\n",
    "df_geo.head()"
   ]
  },
  {
   "cell_type": "code",
   "execution_count": 7,
   "metadata": {},
   "outputs": [
    {
     "data": {
      "text/html": [
       "<div>\n",
       "<style scoped>\n",
       "    .dataframe tbody tr th:only-of-type {\n",
       "        vertical-align: middle;\n",
       "    }\n",
       "\n",
       "    .dataframe tbody tr th {\n",
       "        vertical-align: top;\n",
       "    }\n",
       "\n",
       "    .dataframe thead th {\n",
       "        text-align: right;\n",
       "    }\n",
       "</style>\n",
       "<table border=\"1\" class=\"dataframe\">\n",
       "  <thead>\n",
       "    <tr style=\"text-align: right;\">\n",
       "      <th></th>\n",
       "      <th>time</th>\n",
       "      <th>src</th>\n",
       "      <th>client_version</th>\n",
       "      <th>user</th>\n",
       "      <th>password</th>\n",
       "      <th>city</th>\n",
       "      <th>country</th>\n",
       "    </tr>\n",
       "  </thead>\n",
       "  <tbody>\n",
       "    <tr>\n",
       "      <th>407</th>\n",
       "      <td>2017-03-01 08:51:07+00:00</td>\n",
       "      <td>223.99.60.redacted</td>\n",
       "      <td>SSH-2.0-OpenSSH_6.2p2 Ubuntu-6</td>\n",
       "      <td>root</td>\n",
       "      <td>wubao</td>\n",
       "      <td>Qingdao</td>\n",
       "      <td>CN</td>\n",
       "    </tr>\n",
       "    <tr>\n",
       "      <th>408</th>\n",
       "      <td>2017-03-01 08:51:07+00:00</td>\n",
       "      <td>223.99.60.redacted</td>\n",
       "      <td>SSH-2.0-OpenSSH_6.2p2 Ubuntu-6</td>\n",
       "      <td>root</td>\n",
       "      <td>wubao</td>\n",
       "      <td>Qingdao</td>\n",
       "      <td>CN</td>\n",
       "    </tr>\n",
       "    <tr>\n",
       "      <th>409</th>\n",
       "      <td>2017-03-01 08:51:07+00:00</td>\n",
       "      <td>223.99.60.redacted</td>\n",
       "      <td>SSH-2.0-OpenSSH_6.2p2 Ubuntu-6</td>\n",
       "      <td>root</td>\n",
       "      <td>wubao</td>\n",
       "      <td>Qingdao</td>\n",
       "      <td>CN</td>\n",
       "    </tr>\n",
       "    <tr>\n",
       "      <th>410</th>\n",
       "      <td>2017-03-01 08:51:08+00:00</td>\n",
       "      <td>223.99.60.redacted</td>\n",
       "      <td>SSH-2.0-OpenSSH_6.2p2 Ubuntu-6</td>\n",
       "      <td>root</td>\n",
       "      <td>wubao</td>\n",
       "      <td>Qingdao</td>\n",
       "      <td>CN</td>\n",
       "    </tr>\n",
       "    <tr>\n",
       "      <th>411</th>\n",
       "      <td>2017-03-01 08:51:08+00:00</td>\n",
       "      <td>223.99.60.redacted</td>\n",
       "      <td>SSH-2.0-OpenSSH_6.2p2 Ubuntu-6</td>\n",
       "      <td>root</td>\n",
       "      <td>wubao</td>\n",
       "      <td>Qingdao</td>\n",
       "      <td>CN</td>\n",
       "    </tr>\n",
       "  </tbody>\n",
       "</table>\n",
       "</div>"
      ],
      "text/plain": [
       "                         time                 src  \\\n",
       "407 2017-03-01 08:51:07+00:00  223.99.60.redacted   \n",
       "408 2017-03-01 08:51:07+00:00  223.99.60.redacted   \n",
       "409 2017-03-01 08:51:07+00:00  223.99.60.redacted   \n",
       "410 2017-03-01 08:51:08+00:00  223.99.60.redacted   \n",
       "411 2017-03-01 08:51:08+00:00  223.99.60.redacted   \n",
       "\n",
       "                     client_version  user password     city country  \n",
       "407  SSH-2.0-OpenSSH_6.2p2 Ubuntu-6  root    wubao  Qingdao      CN  \n",
       "408  SSH-2.0-OpenSSH_6.2p2 Ubuntu-6  root    wubao  Qingdao      CN  \n",
       "409  SSH-2.0-OpenSSH_6.2p2 Ubuntu-6  root    wubao  Qingdao      CN  \n",
       "410  SSH-2.0-OpenSSH_6.2p2 Ubuntu-6  root    wubao  Qingdao      CN  \n",
       "411  SSH-2.0-OpenSSH_6.2p2 Ubuntu-6  root    wubao  Qingdao      CN  "
      ]
     },
     "execution_count": 7,
     "metadata": {},
     "output_type": "execute_result"
    }
   ],
   "source": [
    "df = df.join(df_geo, 'src')\n",
    "df.head()"
   ]
  },
  {
   "cell_type": "markdown",
   "metadata": {},
   "source": [
    "### calculate inter-attack times"
   ]
  },
  {
   "cell_type": "code",
   "execution_count": 8,
   "metadata": {},
   "outputs": [
    {
     "data": {
      "text/html": [
       "<div>\n",
       "<style scoped>\n",
       "    .dataframe tbody tr th:only-of-type {\n",
       "        vertical-align: middle;\n",
       "    }\n",
       "\n",
       "    .dataframe tbody tr th {\n",
       "        vertical-align: top;\n",
       "    }\n",
       "\n",
       "    .dataframe thead th {\n",
       "        text-align: right;\n",
       "    }\n",
       "</style>\n",
       "<table border=\"1\" class=\"dataframe\">\n",
       "  <thead>\n",
       "    <tr style=\"text-align: right;\">\n",
       "      <th></th>\n",
       "      <th>time</th>\n",
       "      <th>src</th>\n",
       "      <th>client_version</th>\n",
       "      <th>user</th>\n",
       "      <th>password</th>\n",
       "      <th>city</th>\n",
       "      <th>country</th>\n",
       "      <th>dt</th>\n",
       "    </tr>\n",
       "  </thead>\n",
       "  <tbody>\n",
       "    <tr>\n",
       "      <th>407</th>\n",
       "      <td>2017-03-01 08:51:07+00:00</td>\n",
       "      <td>223.99.60.redacted</td>\n",
       "      <td>SSH-2.0-OpenSSH_6.2p2 Ubuntu-6</td>\n",
       "      <td>root</td>\n",
       "      <td>wubao</td>\n",
       "      <td>Qingdao</td>\n",
       "      <td>CN</td>\n",
       "      <td>NaN</td>\n",
       "    </tr>\n",
       "    <tr>\n",
       "      <th>408</th>\n",
       "      <td>2017-03-01 08:51:07+00:00</td>\n",
       "      <td>223.99.60.redacted</td>\n",
       "      <td>SSH-2.0-OpenSSH_6.2p2 Ubuntu-6</td>\n",
       "      <td>root</td>\n",
       "      <td>wubao</td>\n",
       "      <td>Qingdao</td>\n",
       "      <td>CN</td>\n",
       "      <td>0.0</td>\n",
       "    </tr>\n",
       "    <tr>\n",
       "      <th>409</th>\n",
       "      <td>2017-03-01 08:51:07+00:00</td>\n",
       "      <td>223.99.60.redacted</td>\n",
       "      <td>SSH-2.0-OpenSSH_6.2p2 Ubuntu-6</td>\n",
       "      <td>root</td>\n",
       "      <td>wubao</td>\n",
       "      <td>Qingdao</td>\n",
       "      <td>CN</td>\n",
       "      <td>0.0</td>\n",
       "    </tr>\n",
       "    <tr>\n",
       "      <th>410</th>\n",
       "      <td>2017-03-01 08:51:08+00:00</td>\n",
       "      <td>223.99.60.redacted</td>\n",
       "      <td>SSH-2.0-OpenSSH_6.2p2 Ubuntu-6</td>\n",
       "      <td>root</td>\n",
       "      <td>wubao</td>\n",
       "      <td>Qingdao</td>\n",
       "      <td>CN</td>\n",
       "      <td>1.0</td>\n",
       "    </tr>\n",
       "    <tr>\n",
       "      <th>411</th>\n",
       "      <td>2017-03-01 08:51:08+00:00</td>\n",
       "      <td>223.99.60.redacted</td>\n",
       "      <td>SSH-2.0-OpenSSH_6.2p2 Ubuntu-6</td>\n",
       "      <td>root</td>\n",
       "      <td>wubao</td>\n",
       "      <td>Qingdao</td>\n",
       "      <td>CN</td>\n",
       "      <td>0.0</td>\n",
       "    </tr>\n",
       "  </tbody>\n",
       "</table>\n",
       "</div>"
      ],
      "text/plain": [
       "                         time                 src  \\\n",
       "407 2017-03-01 08:51:07+00:00  223.99.60.redacted   \n",
       "408 2017-03-01 08:51:07+00:00  223.99.60.redacted   \n",
       "409 2017-03-01 08:51:07+00:00  223.99.60.redacted   \n",
       "410 2017-03-01 08:51:08+00:00  223.99.60.redacted   \n",
       "411 2017-03-01 08:51:08+00:00  223.99.60.redacted   \n",
       "\n",
       "                     client_version  user password     city country   dt  \n",
       "407  SSH-2.0-OpenSSH_6.2p2 Ubuntu-6  root    wubao  Qingdao      CN  NaN  \n",
       "408  SSH-2.0-OpenSSH_6.2p2 Ubuntu-6  root    wubao  Qingdao      CN  0.0  \n",
       "409  SSH-2.0-OpenSSH_6.2p2 Ubuntu-6  root    wubao  Qingdao      CN  0.0  \n",
       "410  SSH-2.0-OpenSSH_6.2p2 Ubuntu-6  root    wubao  Qingdao      CN  1.0  \n",
       "411  SSH-2.0-OpenSSH_6.2p2 Ubuntu-6  root    wubao  Qingdao      CN  0.0  "
      ]
     },
     "execution_count": 8,
     "metadata": {},
     "output_type": "execute_result"
    }
   ],
   "source": [
    "dt = utils.calculate_inter_attack_times(df)\n",
    "df = df.join(dt)\n",
    "df.head()"
   ]
  },
  {
   "cell_type": "markdown",
   "metadata": {},
   "source": [
    "## analyze most prevalent IPs"
   ]
  },
  {
   "cell_type": "code",
   "execution_count": 9,
   "metadata": {},
   "outputs": [
    {
     "data": {
      "text/plain": [
       "Text(0, 0.5, 'cmf')"
      ]
     },
     "execution_count": 9,
     "metadata": {},
     "output_type": "execute_result"
    },
    {
     "data": {
      "image/png": "[encoded data removed]",
      "text/plain": [
       "<Figure size 432x288 with 1 Axes>"
      ]
     },
     "metadata": {
      "needs_background": "light"
     },
     "output_type": "display_data"
    }
   ],
   "source": [
    "ips, cmf = utils.calculate_attack_count_cmf(df)\n",
    "plt.plot(np.arange(1, len(ips)+1), cmf)\n",
    "plt.xticks(np.arange(1, len(ips)+1, 4))\n",
    "plt.ylim(0)\n",
    "plt.xlabel('IP address rank')\n",
    "plt.ylabel('cmf')"
   ]
  },
  {
   "cell_type": "code",
   "execution_count": 10,
   "metadata": {},
   "outputs": [
    {
     "name": "stdout",
     "output_type": "stream",
     "text": [
      "top 10 IPs account for 86.710% of attacks\n",
      "top 20 IPs account for 92.466% of attacks\n"
     ]
    },
    {
     "data": {
      "text/plain": [
       "['119.252.161.redacted',\n",
       " '121.18.238.redacted',\n",
       " '61.177.172.redacted',\n",
       " '221.194.44.redacted',\n",
       " '42.7.26.redacted',\n",
       " '221.194.47.redacted',\n",
       " '223.99.60.redacted',\n",
       " '218.65.30.redacted',\n",
       " '59.63.166.redacted',\n",
       " '117.14.105.redacted',\n",
       " '119.249.54.redacted',\n",
       " '113.195.145.redacted',\n",
       " '183.214.141.redacted',\n",
       " '164.132.19.redacted',\n",
       " '218.87.109.redacted',\n",
       " '115.238.94.redacted',\n",
       " '173.63.95.redacted',\n",
       " '117.164.152.redacted',\n",
       " '117.10.110.redacted',\n",
       " '46.173.214.redacted']"
      ]
     },
     "execution_count": 10,
     "metadata": {},
     "output_type": "execute_result"
    }
   ],
   "source": [
    "def print_top_prop(cmf, n_top):\n",
    "    print(f'top {n_top} IPs account for {100*cmf[n_top-1]:.3f}% of attacks')\n",
    "\n",
    "print_top_prop(cmf, 10)\n",
    "print_top_prop(cmf, 20)\n",
    "\n",
    "ips[:20]"
   ]
  },
  {
   "cell_type": "markdown",
   "metadata": {},
   "source": [
    "## grouping IPs into bots"
   ]
  },
  {
   "cell_type": "markdown",
   "metadata": {},
   "source": [
    "### bot 1\n",
    "- Poisson process with mean inter-attack time ~9 seconds."
   ]
  },
  {
   "cell_type": "code",
   "execution_count": 12,
   "metadata": {},
   "outputs": [
    {
     "name": "stdout",
     "output_type": "stream",
     "text": [
      "IP: 119.252.161.redacted\n",
      "origin: Tangerang, ID\n",
      "client_versions: ['SSH-2.0-libssh2_1.7.0']\n",
      "usernames: ['test', 'guest', 'user', 'oracle', 'mysql']\n",
      "passwords: ['123456', 'test', '1234', '123', 'guest']\n"
     ]
    },
    {
     "data": {
      "text/plain": [
       "[(98.24, 9.394)]"
      ]
     },
     "execution_count": 12,
     "metadata": {},
     "output_type": "execute_result"
    },
    {
     "data": {
      "image/png": "[encoded data removed]",
      "text/plain": [
       "<Figure size 432x288 with 1 Axes>"
      ]
     },
     "metadata": {
      "needs_background": "light"
     },
     "output_type": "display_data"
    }
   ],
   "source": [
    "bot1 = ['119.252.161.redacted']\n",
    "\n",
    "utils.print_text_features(df, bot1[0])\n",
    "utils.plot_bot(df, bot1, t_max=100, fit=True, alpha=1)"
   ]
  },
  {
   "cell_type": "markdown",
   "metadata": {},
   "source": [
    "### bot 2\n",
    "- Constant inter-attack time of $\\leq 1$ seconds"
   ]
  },
  {
   "cell_type": "code",
   "execution_count": 13,
   "metadata": {},
   "outputs": [
    {
     "data": {
      "text/plain": [
       "[89.2, 95.57, 92.63, 95.38, 94.12, 89.66, 96.0, 78.57, 91.67]"
      ]
     },
     "execution_count": 13,
     "metadata": {},
     "output_type": "execute_result"
    },
    {
     "data": {
      "image/png": "[encoded data removed]",
      "text/plain": [
       "<Figure size 432x288 with 1 Axes>"
      ]
     },
     "metadata": {
      "needs_background": "light"
     },
     "output_type": "display_data"
    }
   ],
   "source": [
    "bot2 = [\n",
    "    '61.177.172.redacted',\n",
    "    '223.99.60.redacted',\n",
    "    '218.65.30.redacted',\n",
    "    '59.63.166.redacted',\n",
    "    '113.195.145.redacted',\n",
    "    '183.214.141.redacted',\n",
    "    '218.87.109.redacted',\n",
    "    '182.100.67.redacted',\n",
    "    '118.212.135.redacted'\n",
    "]\n",
    "\n",
    "plt.xlabel('inter-attack time')\n",
    "plt.ylabel('density')\n",
    "\n",
    "utils.plot_bot(df, bot2, t_max=5)"
   ]
  },
  {
   "cell_type": "markdown",
   "metadata": {},
   "source": [
    "### bot 3\n",
    "- Poisson process with mean inter-attack time ~23 seconds"
   ]
  },
  {
   "cell_type": "code",
   "execution_count": 14,
   "metadata": {},
   "outputs": [
    {
     "data": {
      "text/plain": [
       "[(82.23, 23.473),\n",
       " (74.73, 24.224),\n",
       " (78.04, 23.479),\n",
       " (81.97, 22.2),\n",
       " (82.86, 23.621)]"
      ]
     },
     "execution_count": 14,
     "metadata": {},
     "output_type": "execute_result"
    },
    {
     "data": {
      "image/png": "[encoded data removed]",
      "text/plain": [
       "<Figure size 432x288 with 1 Axes>"
      ]
     },
     "metadata": {
      "needs_background": "light"
     },
     "output_type": "display_data"
    }
   ],
   "source": [
    "bot3 = [\n",
    "    '121.18.238.redacted',\n",
    "    '221.194.44.redacted',\n",
    "    '221.194.47.redacted',\n",
    "    '42.7.26.redacted',\n",
    "    '119.249.54.redacted'\n",
    "]\n",
    "\n",
    "plt.xlabel('inter-attack time')\n",
    "plt.ylabel('density')\n",
    "\n",
    "utils.plot_bot(df, bot3, t_max=100, fit=True)"
   ]
  },
  {
   "cell_type": "markdown",
   "metadata": {},
   "source": [
    "### bot 4"
   ]
  },
  {
   "cell_type": "code",
   "execution_count": 22,
   "metadata": {},
   "outputs": [
    {
     "data": {
      "text/plain": [
       "[91.43,\n",
       " 92.86,\n",
       " 95.24,\n",
       " 95.0,\n",
       " 94.74,\n",
       " 94.44,\n",
       " 82.35,\n",
       " 82.35,\n",
       " 87.5,\n",
       " 93.75,\n",
       " 80.0,\n",
       " 93.33,\n",
       " 86.67,\n",
       " 92.86,\n",
       " 84.62,\n",
       " 92.31,\n",
       " 92.31,\n",
       " 84.62,\n",
       " 91.67,\n",
       " 91.67,\n",
       " 91.67,\n",
       " 83.33,\n",
       " 81.82,\n",
       " 81.82,\n",
       " 81.82,\n",
       " 80.0,\n",
       " 90.0,\n",
       " 90.0,\n",
       " 90.0,\n",
       " 20.0]"
      ]
     },
     "execution_count": 22,
     "metadata": {},
     "output_type": "execute_result"
    },
    {
     "data": {
      "image/png": "[encoded data removed]",
      "text/plain": [
       "<Figure size 432x288 with 1 Axes>"
      ]
     },
     "metadata": {
      "needs_background": "light"
     },
     "output_type": "display_data"
    }
   ],
   "source": [
    "bot4 = [\n",
    "    '117.14.105.redacted',\n",
    "    '164.132.19.redacted',\n",
    "    '115.238.94.redacted',\n",
    "    '173.63.95.redacted',\n",
    "    '117.164.152.redacted',\n",
    "    '117.10.110.redacted',\n",
    "    '46.173.214.redacted',\n",
    "    '125.37.200.redacted',\n",
    "    '170.250.69.redacted',\n",
    "    '178.20.227.redacted',\n",
    "    '198.24.146.redacted',\n",
    "    '182.18.254.redacted',\n",
    "    '111.162.230.redacted',\n",
    "    '101.51.123.redacted',\n",
    "    '99.14.31.redacted',\n",
    "    '213.32.31.redacted',\n",
    "    '193.70.89.redacted',\n",
    "    '122.15.164.redacted',\n",
    "    '83.136.165.redacted',\n",
    "    '202.87.35.redacted',\n",
    "    '222.85.224.redacted',\n",
    "    '187.242.35.redacted',\n",
    "    '177.229.59.redacted',\n",
    "    '60.24.240.redacted',\n",
    "    '164.132.109.redacted',\n",
    "    '24.232.219.redacted',\n",
    "    '136.25.162.redacted',\n",
    "    '113.6.252.redacted',\n",
    "    '93.125.42.redacted',\n",
    "    '84.245.225.redacted'\n",
    "]\n",
    "\n",
    "utils.plot_bot(df, bot4, t_max=1000)"
   ]
  },
  {
   "cell_type": "code",
   "execution_count": 16,
   "metadata": {},
   "outputs": [],
   "source": [
    "text_features = ['client_version', 'user', 'password']\n",
    "categorical_features = ['country', 'city']"
   ]
  },
  {
   "cell_type": "code",
   "execution_count": 17,
   "metadata": {},
   "outputs": [
    {
     "data": {
      "text/html": [
       "<div>\n",
       "<style scoped>\n",
       "    .dataframe tbody tr th:only-of-type {\n",
       "        vertical-align: middle;\n",
       "    }\n",
       "\n",
       "    .dataframe tbody tr th {\n",
       "        vertical-align: top;\n",
       "    }\n",
       "\n",
       "    .dataframe thead th {\n",
       "        text-align: right;\n",
       "    }\n",
       "</style>\n",
       "<table border=\"1\" class=\"dataframe\">\n",
       "  <thead>\n",
       "    <tr style=\"text-align: right;\">\n",
       "      <th></th>\n",
       "      <th>time</th>\n",
       "      <th>src</th>\n",
       "      <th>client_version</th>\n",
       "      <th>user</th>\n",
       "      <th>password</th>\n",
       "      <th>city</th>\n",
       "      <th>country</th>\n",
       "      <th>dt</th>\n",
       "      <th>bot</th>\n",
       "    </tr>\n",
       "  </thead>\n",
       "  <tbody>\n",
       "    <tr>\n",
       "      <th>407</th>\n",
       "      <td>2017-03-01 08:51:07+00:00</td>\n",
       "      <td>223.99.60.redacted</td>\n",
       "      <td>SSH-2.0-OpenSSH_6.2p2 Ubuntu-6</td>\n",
       "      <td>root</td>\n",
       "      <td>wubao</td>\n",
       "      <td>Qingdao</td>\n",
       "      <td>CN</td>\n",
       "      <td>NaN</td>\n",
       "      <td>1.0</td>\n",
       "    </tr>\n",
       "    <tr>\n",
       "      <th>408</th>\n",
       "      <td>2017-03-01 08:51:07+00:00</td>\n",
       "      <td>223.99.60.redacted</td>\n",
       "      <td>SSH-2.0-OpenSSH_6.2p2 Ubuntu-6</td>\n",
       "      <td>root</td>\n",
       "      <td>wubao</td>\n",
       "      <td>Qingdao</td>\n",
       "      <td>CN</td>\n",
       "      <td>0.0</td>\n",
       "      <td>1.0</td>\n",
       "    </tr>\n",
       "    <tr>\n",
       "      <th>409</th>\n",
       "      <td>2017-03-01 08:51:07+00:00</td>\n",
       "      <td>223.99.60.redacted</td>\n",
       "      <td>SSH-2.0-OpenSSH_6.2p2 Ubuntu-6</td>\n",
       "      <td>root</td>\n",
       "      <td>wubao</td>\n",
       "      <td>Qingdao</td>\n",
       "      <td>CN</td>\n",
       "      <td>0.0</td>\n",
       "      <td>1.0</td>\n",
       "    </tr>\n",
       "    <tr>\n",
       "      <th>410</th>\n",
       "      <td>2017-03-01 08:51:08+00:00</td>\n",
       "      <td>223.99.60.redacted</td>\n",
       "      <td>SSH-2.0-OpenSSH_6.2p2 Ubuntu-6</td>\n",
       "      <td>root</td>\n",
       "      <td>wubao</td>\n",
       "      <td>Qingdao</td>\n",
       "      <td>CN</td>\n",
       "      <td>1.0</td>\n",
       "      <td>1.0</td>\n",
       "    </tr>\n",
       "    <tr>\n",
       "      <th>411</th>\n",
       "      <td>2017-03-01 08:51:08+00:00</td>\n",
       "      <td>223.99.60.redacted</td>\n",
       "      <td>SSH-2.0-OpenSSH_6.2p2 Ubuntu-6</td>\n",
       "      <td>root</td>\n",
       "      <td>wubao</td>\n",
       "      <td>Qingdao</td>\n",
       "      <td>CN</td>\n",
       "      <td>0.0</td>\n",
       "      <td>1.0</td>\n",
       "    </tr>\n",
       "  </tbody>\n",
       "</table>\n",
       "</div>"
      ],
      "text/plain": [
       "                         time                 src  \\\n",
       "407 2017-03-01 08:51:07+00:00  223.99.60.redacted   \n",
       "408 2017-03-01 08:51:07+00:00  223.99.60.redacted   \n",
       "409 2017-03-01 08:51:07+00:00  223.99.60.redacted   \n",
       "410 2017-03-01 08:51:08+00:00  223.99.60.redacted   \n",
       "411 2017-03-01 08:51:08+00:00  223.99.60.redacted   \n",
       "\n",
       "                     client_version  user password     city country   dt  bot  \n",
       "407  SSH-2.0-OpenSSH_6.2p2 Ubuntu-6  root    wubao  Qingdao      CN  NaN  1.0  \n",
       "408  SSH-2.0-OpenSSH_6.2p2 Ubuntu-6  root    wubao  Qingdao      CN  0.0  1.0  \n",
       "409  SSH-2.0-OpenSSH_6.2p2 Ubuntu-6  root    wubao  Qingdao      CN  0.0  1.0  \n",
       "410  SSH-2.0-OpenSSH_6.2p2 Ubuntu-6  root    wubao  Qingdao      CN  1.0  1.0  \n",
       "411  SSH-2.0-OpenSSH_6.2p2 Ubuntu-6  root    wubao  Qingdao      CN  0.0  1.0  "
      ]
     },
     "execution_count": 17,
     "metadata": {},
     "output_type": "execute_result"
    }
   ],
   "source": [
    "bots = [bot1, bot2, bot3, bot4]\n",
    "for i,bot in enumerate(bots):\n",
    "    for ip in bot:\n",
    "        df.loc[df.src == ip, 'bot'] = i\n",
    "\n",
    "df.head()"
   ]
  },
  {
   "cell_type": "code",
   "execution_count": 19,
   "metadata": {},
   "outputs": [
    {
     "name": "stdout",
     "output_type": "stream",
     "text": [
      "[[10  0]\n",
      " [ 8 10]]\n",
      "[[10  0]\n",
      " [ 0 18]]\n",
      "[[ 8  0]\n",
      " [ 0 18]]\n",
      "[[ 8  0]\n",
      " [ 0 18]]\n",
      "[[ 7  1]\n",
      " [ 0 18]]\n",
      "[[ 8  0]\n",
      " [ 0 18]]\n",
      "[[ 8  1]\n",
      " [15  3]]\n",
      "[[ 9  1]\n",
      " [ 0 18]]\n",
      "[[ 8  0]\n",
      " [ 0 18]]\n",
      "[[ 7  1]\n",
      " [ 0 18]]\n"
     ]
    },
    {
     "data": {
      "text/plain": [
       "array([[0.31012414, 0.01496744],\n",
       "       [0.08412698, 0.59078144]])"
      ]
     },
     "execution_count": 19,
     "metadata": {},
     "output_type": "execute_result"
    }
   ],
   "source": [
    "mats = []\n",
    "bot_idx = 3\n",
    "alpha = .4\n",
    "\n",
    "for _ in range(10):\n",
    "    mat = utils.train_test(\n",
    "        df, \n",
    "        bots, \n",
    "        bot_idx, \n",
    "        alpha, \n",
    "        text_features, \n",
    "        categorical_features)\n",
    "    print(mat)\n",
    "    mats += [mat / mat.sum()]\n",
    "\n",
    "np.mean(mats, axis=0)\n"
   ]
  }
 ],
 "metadata": {
  "kernelspec": {
   "display_name": "Python 3 (ipykernel)",
   "language": "python",
   "name": "python3"
  },
  "language_info": {
   "codemirror_mode": {
    "name": "ipython",
    "version": 3
   },
   "file_extension": ".py",
   "mimetype": "text/x-python",
   "name": "python",
   "nbconvert_exporter": "python",
   "pygments_lexer": "ipython3",
   "version": "3.9.10"
  },
  "vscode": {
   "interpreter": {
    "hash": "868d701682088d1128cad788f3b783d362f359ccbd74a171330d82ee9fcc2b54"
   }
  }
 },
 "nbformat": 4,
 "nbformat_minor": 2
}
