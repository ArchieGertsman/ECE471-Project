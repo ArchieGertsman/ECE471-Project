{
 "cells": [
  {
   "cell_type": "code",
   "execution_count": null,
   "metadata": {},
   "outputs": [],
   "source": [
    "import pandas as pd\n",
    "import ipinfo\n",
    "import pickle"
   ]
  },
  {
   "cell_type": "code",
   "execution_count": null,
   "metadata": {},
   "outputs": [],
   "source": [
    "# pinfo setup\n",
    "access_token = '1333a16017c88b'\n",
    "handler = ipinfo.getHandler(access_token)"
   ]
  },
  {
   "cell_type": "code",
   "execution_count": null,
   "metadata": {},
   "outputs": [],
   "source": [
    "df = pd.read_csv('ssh-logs.csv')\n",
    "df.time = pd.to_datetime(df.time, format='%Y-%m-%dT%H:%M:%S', utc=True)"
   ]
  },
  {
   "cell_type": "code",
   "execution_count": null,
   "metadata": {},
   "outputs": [],
   "source": [
    "dict_geo = {}"
   ]
  },
  {
   "cell_type": "code",
   "execution_count": null,
   "metadata": {},
   "outputs": [],
   "source": [
    "for i, src in enumerate(df.src.unique()):\n",
    "    ip = src[:-len('.redacted')] + '.1'\n",
    "    details = handler.getDetails(ip)\n",
    "    dict_geo[src] = (details.city, details.country)\n",
    "    \n",
    "dict_geo"
   ]
  },
  {
   "cell_type": "code",
   "execution_count": null,
   "metadata": {},
   "outputs": [],
   "source": [
    "with open('dict_geo.pickle', 'wb') as handle:\n",
    "    pickle.dump(dict_geo, handle, protocol=pickle.HIGHEST_PROTOCOL)"
   ]
  }
 ],
 "metadata": {
  "kernelspec": {
   "display_name": "Python 3.9.10 ('archienv')",
   "language": "python",
   "name": "python3"
  },
  "language_info": {
   "name": "python",
   "version": "3.9.10"
  },
  "orig_nbformat": 4,
  "vscode": {
   "interpreter": {
    "hash": "868d701682088d1128cad788f3b783d362f359ccbd74a171330d82ee9fcc2b54"
   }
  }
 },
 "nbformat": 4,
 "nbformat_minor": 2
}
